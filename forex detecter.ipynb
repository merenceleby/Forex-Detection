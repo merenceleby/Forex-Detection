{
 "cells": [
  {
   "cell_type": "code",
   "execution_count": 1,
   "id": "e6a5e42b",
   "metadata": {},
   "outputs": [
    {
     "name": "stdout",
     "output_type": "stream",
     "text": [
      "Bullish double bottom pattern!  [37, 57, 82, 97, 123, 198, 218, 234]\n",
      "Bearish double top pattern!  [11, 23, 49, 116, 165, 174, 211, 252]\n",
      "Bullish inverted head and shoulders pattern!  [7, 19, 169, 193, 255]\n",
      "Bearish head and shoulders pattern! [75, 95, 203, 236]\n",
      "Bullish triple bottom pattern!  [160, 169, 193, 207]\n",
      "Bearish triple top pattern!  [75, 199, 203, 242]\n"
     ]
    },
    {
     "data": {
      "image/png": "[encoded data removed]",
      "text/plain": [
       "<Figure size 432x288 with 1 Axes>"
      ]
     },
     "metadata": {
      "needs_background": "light"
     },
     "output_type": "display_data"
    }
   ],
   "source": [
    "import pandas as pd\n",
    "import matplotlib.pyplot as plt\n",
    "\n",
    "def MinMax(df):\n",
    "    maxi = []\n",
    "    mini = []\n",
    "    \n",
    "    for i in range(1, len(df)-1):\n",
    "        if df[i] > df[i-1] and df[i] > df[i+1]:\n",
    "            maxi.append(i)\n",
    "        elif df[i] < df[i-1] and df[i] < df[i+1]:\n",
    "            mini.append(i)\n",
    "            \n",
    "    return maxi, mini\n",
    "def Forex(df):\n",
    "    maxi, mini = MinMax(df)\n",
    "    \n",
    "    bullish_double_bottom = []\n",
    "    for i in range(1, len(mini)-2):\n",
    "        if (df[mini[i-1]] > df[mini[i]]) and (df[mini[i+1]] > df[mini[i]]) and (df[mini[i+2]] > df[mini[i+1]]):\n",
    "            bullish_double_bottom.append(mini[i])\n",
    "\n",
    "    \n",
    "    if bullish_double_bottom:\n",
    "        print(\"Bullish double bottom pattern! \", bullish_double_bottom)\n",
    "    \n",
    "    bearish_double_top = []\n",
    "    for i in range(1, len(maxi)-2):\n",
    "        if df[maxi[i-1]] < df[maxi[i]] and df[maxi[i+1]] < df[maxi[i]] and df[maxi[i+2]] < df[maxi[i+1]]:\n",
    "            bearish_double_top.append(maxi[i])\n",
    "\n",
    "    if bearish_double_top:\n",
    "        print(\"Bearish double top pattern! \", bearish_double_top)\n",
    "   \n",
    "    bullish_inverted_head_and_shoulders = []\n",
    "    for i in range(1, len(mini)-2):\n",
    "         if df[mini[i-1]] > df[mini[i]] and df[maxi[i]] < df[maxi[i+1]] and df[mini[i+1]] > df[mini[i+2]]:\n",
    "                bullish_inverted_head_and_shoulders.append(mini[i])\n",
    "    \n",
    "    if bullish_inverted_head_and_shoulders:\n",
    "        print(\"Bullish inverted head and shoulders pattern! \", bullish_inverted_head_and_shoulders)\n",
    "    \n",
    "    bearish_head_and_shoulders = []\n",
    "    for i in range(1, len(maxi)-2):\n",
    "        if df[maxi[i-1]] < df[maxi[i]] and df[mini[i]] > df[mini[i+1]] and df[maxi[i+1]] < df[maxi[i+2]]:\n",
    "            bearish_head_and_shoulders.append(maxi[i])\n",
    "\n",
    "    if bearish_head_and_shoulders:\n",
    "        print(\"Bearish head and shoulders pattern!\", bearish_head_and_shoulders)\n",
    "    \n",
    "    bullish_triple_bottom = []\n",
    "    for i in range(1, len(mini)-3):\n",
    "        if df[mini[i-1]] > df[mini[i]] and df[mini[i]] < df[mini[i+1]] and df[mini[i+1]] > df[mini[i+2]] and df[mini[i+2]] < df[mini[i+3]]:\n",
    "            bullish_triple_bottom.append(mini[i])\n",
    "                \n",
    "    if bullish_triple_bottom:\n",
    "        print(\"Bullish triple bottom pattern! \", bullish_triple_bottom)\n",
    "    \n",
    "    bearish_triple_top = []\n",
    "    for i in range(1, len(maxi)-3):\n",
    "        if df[maxi[i-1]] < df[maxi[i]] and df[maxi[i]] > df[maxi[i+1]] and df[maxi[i+1]] < df[maxi[i+2]] and df[maxi[i+2]] > df[maxi[i+3]]:\n",
    "            bearish_triple_top.append(maxi[i])\n",
    "\n",
    "    if bearish_triple_top:\n",
    "        print(\"Bearish triple top pattern! \", bearish_triple_top)\n",
    "df = pd.read_csv(\"EURUSD=X.csv\")\n",
    "maxi, mini = MinMax(df['Close'])\n",
    "Forex(df['Close'])\n",
    "\n",
    "plt.plot(df['Close'])\n",
    "plt.plot(df['Close'][mini], 'bo')\n",
    "plt.plot(df['Close'][maxi], 'go')\n",
    "\n",
    "\n",
    "plt.show()\n"
   ]
  },
  {
   "cell_type": "code",
   "execution_count": null,
   "id": "b0ad05cd",
   "metadata": {},
   "outputs": [],
   "source": []
  }
 ],
 "metadata": {
  "kernelspec": {
   "display_name": "Python 3 (ipykernel)",
   "language": "python",
   "name": "python3"
  },
  "language_info": {
   "codemirror_mode": {
    "name": "ipython",
    "version": 3
   },
   "file_extension": ".py",
   "mimetype": "text/x-python",
   "name": "python",
   "nbconvert_exporter": "python",
   "pygments_lexer": "ipython3",
   "version": "3.9.7"
  }
 },
 "nbformat": 4,
 "nbformat_minor": 5
}
